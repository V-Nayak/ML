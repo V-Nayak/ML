{
  "nbformat": 4,
  "nbformat_minor": 0,
  "metadata": {
    "colab": {
      "provenance": [],
      "authorship_tag": "ABX9TyN0Khx73x12yXeFDHWSv543",
      "include_colab_link": true
    },
    "kernelspec": {
      "name": "python3",
      "display_name": "Python 3"
    },
    "language_info": {
      "name": "python"
    }
  },
  "cells": [
    {
      "cell_type": "markdown",
      "metadata": {
        "id": "view-in-github",
        "colab_type": "text"
      },
      "source": [
        "<a href=\"https://colab.research.google.com/github/V-Nayak/ML/blob/main/music_recom.ipynb\" target=\"_parent\"><img src=\"https://colab.research.google.com/assets/colab-badge.svg\" alt=\"Open In Colab\"/></a>"
      ]
    },
    {
      "cell_type": "code",
      "execution_count": null,
      "metadata": {
        "id": "vUjfCFygcfhu"
      },
      "outputs": [],
      "source": [
        "import numpy as np\n",
        "import pandas as pd\n",
        "import matplotlib.pyplot as plt\n",
        "import seaborn as sns\n",
        "import random\n",
        "import heapq\n",
        "from scypy import stats\n",
        "\n",
        "class MusicRecommender:\n",
        "    def __init__(self, user_data, song_features):\n",
        "\n",
        "        #Initialize the recommender with user data and song features\n",
        "\n",
        "        #Parameters:\n",
        "        # user_data: DataFrame with columns [User_ID, Song_ID, Rating]\n",
        "        # song_features: DataFrame with columns [Song_ID, Feature_1, Feature_2, ...]\n",
        "\n",
        "        self.user_data = user_data\n",
        "        self.song_features = song_features\n",
        "\n",
        "    def calculate_cosine_similarity(self, song1, song2):\n",
        "\n",
        "        #Calculate cosine similarity between two songs\n",
        "\n",
        "        #Parameters:\n",
        "        #- song1: Feature vector of first song\n",
        "        #- song2: Feature vector of second song\n",
        "\n",
        "        #Returns:\n",
        "        #- Cosine similarity score\n",
        "\n",
        "        # Normalize feature vectors\n",
        "        song1_norm = song1 / np.linalg.norm(song1)\n",
        "        song2_norm = song2 / np.linalg.norm(song2)\n",
        "\n",
        "        # Calculate cosine similarity\n",
        "        return np.dot(song1_norm, song2_norm)\n",
        "\n",
        "    def recommend_songs(self, user_id, top_n=5):\n",
        "\n",
        "        #Recommend top N songs for a given user\n",
        "\n",
        "        #Parameters:\n",
        "        #- user_id: ID of the user to recommend songs for\n",
        "        #- top_n: Number of recommendations to return\n",
        "\n",
        "        #Returns:\n",
        "        #- List of recommended song IDs\n",
        "\n",
        "        # Get user's highest-rated songs\n",
        "        user_songs = self.user_data[self.user_data['User_ID'] == user_id]\n",
        "        top_rated_songs = user_songs.nlargest(3, 'Rating')['Song_ID'].tolist()\n",
        "\n",
        "        # Calculate song similarities\n",
        "        recommendations = {}\n",
        "        for song_id in top_rated_songs:\n",
        "            # Get features of the top-rated song\n",
        "            song_features = self.song_features[self.song_features['Song_ID'] == song_id].iloc[0, 1:].values\n",
        "\n",
        "            # Compare with all other songs\n",
        "            for _, other_song in self.song_features.iterrows():\n",
        "                if other_song['Song_ID'] not in user_songs['Song_ID'].values:\n",
        "                    other_features = other_song.values[1:]\n",
        "                    similarity = self.calculate_cosine_similarity(song_features, other_features)\n",
        "                    recommendations[other_song['Song_ID']] = max(\n",
        "                        recommendations.get(other_song['Song_ID'], 0),\n",
        "                        similarity\n",
        "                    )\n",
        "\n",
        "        # Return top N recommendations\n",
        "        return sorted(recommendations, key=recommendations.get, reverse=True)[:top_n]"
      ]
    }
  ]
}