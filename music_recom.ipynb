{
  "nbformat": 4,
  "nbformat_minor": 0,
  "metadata": {
    "colab": {
      "provenance": [],
      "authorship_tag": "ABX9TyMnbpD3kDYxW4GqgkkBR1ON",
      "include_colab_link": true
    },
    "kernelspec": {
      "name": "python3",
      "display_name": "Python 3"
    },
    "language_info": {
      "name": "python"
    }
  },
  "cells": [
    {
      "cell_type": "markdown",
      "metadata": {
        "id": "view-in-github",
        "colab_type": "text"
      },
      "source": [
        "<a href=\"https://colab.research.google.com/github/V-Nayak/ML/blob/main/music_recom.ipynb\" target=\"_parent\"><img src=\"https://colab.research.google.com/assets/colab-badge.svg\" alt=\"Open In Colab\"/></a>"
      ]
    },
    {
      "cell_type": "markdown",
      "source": [
        "# **Problem Statement:**\n",
        "\n",
        "You are tasked with building a Music Recommendation System leveraging machine learning techniques. This system should provide personalized recommendations to users based on their listening history and the similarity of songs. In addition to implementing the recommendation engine, you will also need to demonstrate strong coding skills, problem-solving abilities, and a solid understanding of statistics, mathematics, and probability."
      ],
      "metadata": {
        "id": "P-hEr2V1e2m7"
      }
    },
    {
      "cell_type": "markdown",
      "source": [
        "# **1. Build a Music Recommendation System**\n",
        "\n",
        "Design an algorithm to recommend songs to a user based on:\n",
        "Their highest-rated songs.\n",
        "Similarity of songs (calculated using cosine similarity based on song features).\n",
        "Inputs:\n",
        "User listening history in the format:\n",
        "scss\n",
        "Copy code\n",
        "User_ID | Song_ID | Rating (1-5)\n",
        "\n",
        "\n",
        "Song feature dataset in the format:\n",
        "Copy code\n",
        "Song_ID | Feature_1 | Feature_2 | ... | Feature_N\n",
        "\n",
        "\n",
        "## **Deliverables**:\n",
        "A function recommend_songs(user_id, user_data, song_features) that outputs the top 5 recommendations for a given user."
      ],
      "metadata": {
        "id": "-lF7wVWFfKjv"
      }
    },
    {
      "cell_type": "code",
      "execution_count": null,
      "metadata": {
        "id": "vUjfCFygcfhu"
      },
      "outputs": [],
      "source": [
        "import numpy as np\n",
        "import pandas as pd\n",
        "import matplotlib.pyplot as plt\n",
        "import seaborn as sns\n",
        "import random\n",
        "import heapq\n",
        "from scypy import stats\n",
        "\n",
        "# 1. Music Recommendation System\n",
        "class MusicRecommender:\n",
        "    def __init__(self, user_data, song_features):\n",
        "\n",
        "        #Initialize the recommender with user data and song features\n",
        "\n",
        "        #Parameters:\n",
        "        # user_data: DataFrame with columns [User_ID, Song_ID, Rating]\n",
        "        # song_features: DataFrame with columns [Song_ID, Feature_1, Feature_2, ...]\n",
        "\n",
        "        self.user_data = user_data\n",
        "        self.song_features = song_features\n",
        "\n",
        "    def calculate_cosine_similarity(self, song1, song2):\n",
        "\n",
        "        #Calculate cosine similarity between two songs\n",
        "\n",
        "        #Parameters:\n",
        "        #- song1: Feature vector of first song\n",
        "        #- song2: Feature vector of second song\n",
        "\n",
        "        #Returns:\n",
        "        #- Cosine similarity score\n",
        "\n",
        "        # Normalize feature vectors\n",
        "        song1_norm = song1 / np.linalg.norm(song1)\n",
        "        song2_norm = song2 / np.linalg.norm(song2)\n",
        "\n",
        "        # Calculate cosine similarity\n",
        "        return np.dot(song1_norm, song2_norm)\n",
        "\n",
        "    def recommend_songs(self, user_id, top_n=5):\n",
        "\n",
        "        #Recommend top N songs for a given user\n",
        "\n",
        "        #Parameters:\n",
        "        #- user_id: ID of the user to recommend songs for\n",
        "        #- top_n: Number of recommendations to return\n",
        "\n",
        "        #Returns:\n",
        "        #- List of recommended song IDs\n",
        "\n",
        "        # Get user's highest-rated songs\n",
        "        user_songs = self.user_data[self.user_data['User_ID'] == user_id]\n",
        "        top_rated_songs = user_songs.nlargest(3, 'Rating')['Song_ID'].tolist()\n",
        "\n",
        "        # Calculate song similarities\n",
        "        recommendations = {}\n",
        "        for song_id in top_rated_songs:\n",
        "            # Get features of the top-rated song\n",
        "            song_features = self.song_features[self.song_features['Song_ID'] == song_id].iloc[0, 1:].values\n",
        "\n",
        "            # Compare with all other songs\n",
        "            for _, other_song in self.song_features.iterrows():\n",
        "                if other_song['Song_ID'] not in user_songs['Song_ID'].values:\n",
        "                    other_features = other_song.values[1:]\n",
        "                    similarity = self.calculate_cosine_similarity(song_features, other_features)\n",
        "                    recommendations[other_song['Song_ID']] = max(\n",
        "                        recommendations.get(other_song['Song_ID'], 0),\n",
        "                        similarity\n",
        "                    )\n",
        "\n",
        "        # Return top N recommendations\n",
        "        return sorted(recommendations, key=recommendations.get, reverse=True)[:top_n]"
      ]
    },
    {
      "cell_type": "markdown",
      "source": [
        "# **2. Optimize Data Structure for Play Count Analysis**\n",
        "\n",
        "Given a list of songs with their play counts, write a function to efficiently find the top k most-played songs.\n",
        "Optimize for large datasets using appropriate data structures like heaps"
      ],
      "metadata": {
        "id": "wUB8g0GvfjF8"
      }
    },
    {
      "cell_type": "code",
      "source": [
        "# 2. Top K Most-Played Songs using Heap\n",
        "\n",
        "def find_top_k_songs(play_counts, k):\n",
        "\n",
        "    #Efficiently find top k most-played songs using a heap\n",
        "\n",
        "    #Parameters:\n",
        "    #- play_counts: Dictionary of {song_id: play_count}\n",
        "    #- k: Number of top songs to return\n",
        "\n",
        "    #Returns:\n",
        "    #- List of k most-played songs\n",
        "\n",
        "    # Use a min-heap of size k\n",
        "    heap = []\n",
        "    for song, count in play_counts.items():\n",
        "        if len(heap) < k:\n",
        "            heapq.heappush(heap, (count, song))\n",
        "        else:\n",
        "            heapq.heappushpop(heap, (count, song))\n",
        "\n",
        "    # Return songs sorted in descending order of play count\n",
        "    return [song for _, song in sorted(heap, reverse=True)]"
      ],
      "metadata": {
        "id": "_acEjgKLfopW"
      },
      "execution_count": null,
      "outputs": []
    },
    {
      "cell_type": "markdown",
      "source": [
        "# **3. Random Walk Simulation**\n",
        "\n",
        "Simulate a random walk in 2D space to visualize the trajectory of a user navigating through a playlist in a probabilistic manner.\n",
        "Deliverables:\n",
        "A function random_walk(n) that simulates n steps and visualizes the walk using Matplotlib.\n",
        "Display the Euclidean distance from the origin after n steps."
      ],
      "metadata": {
        "id": "FFdGVrW8f7-O"
      }
    },
    {
      "cell_type": "code",
      "source": [
        "# 3. Random Walk Simulation\n",
        "def random_walk(n):\n",
        "    \"\"\"\n",
        "    Simulate a random walk in 2D space\n",
        "\n",
        "    Parameters:\n",
        "    - n: Number of steps to take\n",
        "\n",
        "    Returns:\n",
        "    - x, y coordinates of final position\n",
        "    - Trajectory plot\n",
        "    \"\"\"\n",
        "    # Initialize starting point\n",
        "    x, y = 0, 0\n",
        "\n",
        "    # Track trajectory\n",
        "    xs, ys = [x], [y]\n",
        "\n",
        "    # Perform random walk\n",
        "    for _ in range(n):\n",
        "        # Random step: can move in any of 4 directions\n",
        "        dx, dy = random.choice([(0,1), (0,-1), (1,0), (-1,0)])\n",
        "        x += dx\n",
        "        y += dy\n",
        "        xs.append(x)\n",
        "        ys.append(y)\n",
        "\n",
        "    # Calculate Euclidean distance from origin\n",
        "    final_distance = np.sqrt(x**2 + y**2)\n",
        "\n",
        "    # Visualize walk\n",
        "    plt.figure(figsize=(8, 6))\n",
        "    plt.plot(xs, ys, marker='o')\n",
        "    plt.title(f'Random Walk ({n} Steps)')\n",
        "    plt.xlabel('X Coordinate')\n",
        "    plt.ylabel('Y Coordinate')\n",
        "    plt.grid(True)\n",
        "    plt.tight_layout()\n",
        "    plt.show()\n",
        "\n",
        "    return x, y, final_distance"
      ],
      "metadata": {
        "id": "CRa2fMCELnjA"
      },
      "execution_count": null,
      "outputs": []
    },
    {
      "cell_type": "markdown",
      "source": [
        "# **4. Hypothesis Testing for User Ratings**\n",
        "\n",
        "Perform a statistical analysis to determine if the average rating of songs differs significantly between two user groups.\n",
        "Clearly state your null and alternative hypotheses and perform a two-sample t-test using Python.\n",
        "Summarize your findings with a short interpretation of the results."
      ],
      "metadata": {
        "id": "USOvQmtQM5XB"
      }
    },
    {
      "cell_type": "code",
      "source": [
        "# 4. Hypothesis Testing for User Ratings\n",
        "def user_ratings_hypothesis_test(group1_ratings, group2_ratings, alpha=0.05):\n",
        "    \"\"\"\n",
        "    Perform two-sample t-test on user ratings\n",
        "\n",
        "    Parameters:\n",
        "    - group1_ratings: Ratings for first user group\n",
        "    - group2_ratings: Ratings for second user group\n",
        "    - alpha: Significance level\n",
        "\n",
        "    Returns:\n",
        "    - t-statistic, p-value, and interpretation\n",
        "    \"\"\"\n",
        "    # Perform two-sample t-test\n",
        "    t_statistic, p_value = stats.ttest_ind(group1_ratings, group2_ratings)\n",
        "\n",
        "    # Interpret results\n",
        "    if p_value < alpha:\n",
        "        conclusion = \"Reject null hypothesis. There is significant difference in ratings between groups.\"\n",
        "    else:\n",
        "        conclusion = \"Fail to reject null hypothesis. No significant difference in ratings between groups.\"\n",
        "\n",
        "    return t_statistic, p_value, conclusion\n"
      ],
      "metadata": {
        "id": "yEkcVpEeM_0P"
      },
      "execution_count": null,
      "outputs": []
    },
    {
      "cell_type": "markdown",
      "source": [
        "# **5. Math Puzzle: Probability of Consecutive Songs**\n",
        "\n",
        "Calculate the probability that two favorite songs (Song A and Song B) are played consecutively in a playlist of 10 songs.\n",
        "Write a Python simulation to validate the theoretical probability."
      ],
      "metadata": {
        "id": "tDf4qytYNHjB"
      }
    },
    {
      "cell_type": "code",
      "source": [
        "# 5. Probability of Consecutive Songs\n",
        "def consecutive_songs_probability(playlist_size=10):\n",
        "    \"\"\"\n",
        "    Calculate probability of two favorite songs being played consecutively\n",
        "\n",
        "    Parameters:\n",
        "    - playlist_size: Total number of songs in playlist\n",
        "\n",
        "    Returns:\n",
        "    - Theoretical probability\n",
        "    - Simulated probability\n",
        "    \"\"\"\n",
        "    # Theoretical probability calculation\n",
        "    theoretical_prob = 2 / (playlist_size * (playlist_size - 1))\n",
        "\n",
        "    # Simulation\n",
        "    num_simulations = 100000\n",
        "    consecutive_count = 0\n",
        "\n",
        "    for _ in range(num_simulations):\n",
        "        # Create a random playlist\n",
        "        playlist = list(range(playlist_size))\n",
        "        np.random.shuffle(playlist)\n",
        "\n",
        "        # Check for consecutive favorite songs\n",
        "        for i in range(len(playlist) - 1):\n",
        "            if playlist[i] in [0, 1] and playlist[i+1] in [0, 1]:\n",
        "                consecutive_count += 1\n",
        "                break\n",
        "\n",
        "    simulated_prob = consecutive_count / num_simulations\n",
        "\n",
        "    return theoretical_prob, simulated_prob"
      ],
      "metadata": {
        "id": "PShOdRFiNQyC"
      },
      "execution_count": null,
      "outputs": []
    }
  ]
}