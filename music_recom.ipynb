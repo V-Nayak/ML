{
  "nbformat": 4,
  "nbformat_minor": 0,
  "metadata": {
    "colab": {
      "provenance": [],
      "authorship_tag": "ABX9TyOb1LEcL3DUlwE6MJJFmKLH",
      "include_colab_link": true
    },
    "kernelspec": {
      "name": "python3",
      "display_name": "Python 3"
    },
    "language_info": {
      "name": "python"
    }
  },
  "cells": [
    {
      "cell_type": "markdown",
      "metadata": {
        "id": "view-in-github",
        "colab_type": "text"
      },
      "source": [
        "<a href=\"https://colab.research.google.com/github/V-Nayak/ML/blob/main/music_recom.ipynb\" target=\"_parent\"><img src=\"https://colab.research.google.com/assets/colab-badge.svg\" alt=\"Open In Colab\"/></a>"
      ]
    },
    {
      "cell_type": "markdown",
      "source": [
        "# **Problem Statement:**\n",
        "\n",
        "You are tasked with building a Music Recommendation System leveraging machine learning techniques. This system should provide personalized recommendations to users based on their listening history and the similarity of songs. In addition to implementing the recommendation engine, you will also need to demonstrate strong coding skills, problem-solving abilities, and a solid understanding of statistics, mathematics, and probability."
      ],
      "metadata": {
        "id": "P-hEr2V1e2m7"
      }
    },
    {
      "cell_type": "markdown",
      "source": [
        "# **1. Build a Music Recommendation System**\n",
        "\n",
        "Design an algorithm to recommend songs to a user based on:\n",
        "Their highest-rated songs.\n",
        "Similarity of songs (calculated using cosine similarity based on song features).\n",
        "Inputs:\n",
        "User listening history in the format:\n",
        "scss\n",
        "Copy code\n",
        "User_ID | Song_ID | Rating (1-5)\n",
        "\n",
        "\n",
        "Song feature dataset in the format:\n",
        "Copy code\n",
        "Song_ID | Feature_1 | Feature_2 | ... | Feature_N\n",
        "\n",
        "\n",
        "## **Deliverables**:\n",
        "A function recommend_songs(user_id, user_data, song_features) that outputs the top 5 recommendations for a given user."
      ],
      "metadata": {
        "id": "-lF7wVWFfKjv"
      }
    },
    {
      "cell_type": "code",
      "execution_count": 1,
      "metadata": {
        "id": "vUjfCFygcfhu"
      },
      "outputs": [],
      "source": [
        "import numpy as np\n",
        "import pandas as pd\n",
        "import matplotlib.pyplot as plt\n",
        "import seaborn as sns\n",
        "import random\n",
        "import heapq\n",
        "from scipy import stats\n",
        "\n",
        "# 1. Music Recommendation System\n",
        "class MusicRecommender:\n",
        "    def __init__(self, user_data, song_features):\n",
        "\n",
        "        #Initialize the recommender with user data and song features\n",
        "\n",
        "        #Parameters:\n",
        "        # user_data: DataFrame with columns [User_ID, Song_ID, Rating]\n",
        "        # song_features: DataFrame with columns [Song_ID, Feature_1, Feature_2, ...]\n",
        "\n",
        "        self.user_data = user_data\n",
        "        self.song_features = song_features\n",
        "\n",
        "    def calculate_cosine_similarity(self, song1, song2):\n",
        "\n",
        "        #Calculate cosine similarity between two songs\n",
        "\n",
        "        #Parameters:\n",
        "        #- song1: Feature vector of first song\n",
        "        #- song2: Feature vector of second song\n",
        "\n",
        "        #Returns:\n",
        "        #- Cosine similarity score\n",
        "\n",
        "        # Normalize feature vectors\n",
        "        song1_norm = song1 / np.linalg.norm(song1)\n",
        "        song2_norm = song2 / np.linalg.norm(song2)\n",
        "\n",
        "        # Calculate cosine similarity\n",
        "        return np.dot(song1_norm, song2_norm)\n",
        "\n",
        "    def recommend_songs(self, user_id, top_n=5):\n",
        "\n",
        "        #Recommend top N songs for a given user\n",
        "\n",
        "        #Parameters:\n",
        "        #- user_id: ID of the user to recommend songs for\n",
        "        #- top_n: Number of recommendations to return\n",
        "\n",
        "        #Returns:\n",
        "        #- List of recommended song IDs\n",
        "\n",
        "        # Get user's highest-rated songs\n",
        "        user_songs = self.user_data[self.user_data['User_ID'] == user_id]\n",
        "        top_rated_songs = user_songs.nlargest(3, 'Rating')['Song_ID'].tolist()\n",
        "\n",
        "        # Calculate song similarities\n",
        "        recommendations = {}\n",
        "        for song_id in top_rated_songs:\n",
        "            # Get features of the top-rated song\n",
        "            song_features = self.song_features[self.song_features['Song_ID'] == song_id].iloc[0, 1:].values\n",
        "\n",
        "            # Compare with all other songs\n",
        "            for _, other_song in self.song_features.iterrows():\n",
        "                if other_song['Song_ID'] not in user_songs['Song_ID'].values:\n",
        "                    other_features = other_song.values[1:]\n",
        "                    similarity = self.calculate_cosine_similarity(song_features, other_features)\n",
        "                    recommendations[other_song['Song_ID']] = max(\n",
        "                        recommendations.get(other_song['Song_ID'], 0),\n",
        "                        similarity\n",
        "                    )\n",
        "\n",
        "        # Return top N recommendations\n",
        "        return sorted(recommendations, key=recommendations.get, reverse=True)[:top_n]\n",
        "\n",
        ""
      ]
    },
    {
      "cell_type": "markdown",
      "source": [
        "Algorithmic Design and Challenges Faced\n",
        "\n",
        "**Design:**\n",
        "\n",
        "Used cosine similarity to compare song features and recommend songs most similar to the user's top-rated songs.\n",
        "\n",
        "Optimized for scalability by using vectorized operations with NumPy.\n",
        "\n",
        "**Challenges:**\n",
        "\n",
        "Handling sparse user listening history when there is limited data for a user.\n",
        "\n",
        "Ensuring that the recommendation process excluded songs already rated by the user."
      ],
      "metadata": {
        "id": "iu3QpxN_-9vC"
      }
    },
    {
      "cell_type": "markdown",
      "source": [
        "# **2. Optimize Data Structure for Play Count Analysis**\n",
        "\n",
        "Given a list of songs with their play counts, write a function to efficiently find the top k most-played songs.\n",
        "Optimize for large datasets using appropriate data structures like heaps"
      ],
      "metadata": {
        "id": "wUB8g0GvfjF8"
      }
    },
    {
      "cell_type": "code",
      "source": [
        "import numpy as np\n",
        "import pandas as pd\n",
        "import matplotlib.pyplot as plt\n",
        "import seaborn as sns\n",
        "import random\n",
        "import heapq\n",
        "from scipy import stats\n",
        "\n",
        "\n",
        "# 2. Top K Most-Played Songs using Heap\n",
        "\n",
        "def find_top_k_songs(play_counts, k):\n",
        "\n",
        "    #Efficiently find top k most-played songs using a heap\n",
        "\n",
        "    #Parameters:\n",
        "    #- play_counts: Dictionary of {song_id: play_count}\n",
        "    #- k: Number of top songs to return\n",
        "\n",
        "    #Returns:\n",
        "    #- List of k most-played songs\n",
        "\n",
        "    # Use a min-heap of size k\n",
        "    heap = []\n",
        "    for song, count in play_counts.items():\n",
        "        if len(heap) < k:\n",
        "            heapq.heappush(heap, (count, song))\n",
        "        else:\n",
        "            heapq.heappushpop(heap, (count, song))\n",
        "\n",
        "    # Return songs sorted in descending order of play count\n",
        "    return [song for _, song in sorted(heap, reverse=True)]"
      ],
      "metadata": {
        "id": "_acEjgKLfopW"
      },
      "execution_count": 2,
      "outputs": []
    },
    {
      "cell_type": "markdown",
      "source": [
        "**Design:**\n",
        "\n",
        "Leveraged a max-heap to efficiently find the top k most-played songs from a large dataset.\n",
        "\n",
        "Max-heaps ensure\n",
        "𝑂\n",
        "(\n",
        "𝑘\n",
        "log\n",
        "⁡\n",
        "𝑛\n",
        ")\n",
        "O(klogn) complexity for extracting the top k songs.\n",
        "\n",
        "**Challenges**:\n",
        "\n",
        "Handling edge cases, such as duplicate play counts or ties between songs.\n",
        "Efficiently processing large datasets to ensure performance remained optimal."
      ],
      "metadata": {
        "id": "ZPIpFx-S_y24"
      }
    },
    {
      "cell_type": "markdown",
      "source": [
        "# **3. Random Walk Simulation**\n",
        "\n",
        "Simulate a random walk in 2D space to visualize the trajectory of a user navigating through a playlist in a probabilistic manner.\n",
        "Deliverables:\n",
        "A function random_walk(n) that simulates n steps and visualizes the walk using Matplotlib.\n",
        "Display the Euclidean distance from the origin after n steps."
      ],
      "metadata": {
        "id": "FFdGVrW8f7-O"
      }
    },
    {
      "cell_type": "code",
      "source": [
        "import numpy as np\n",
        "import pandas as pd\n",
        "import matplotlib.pyplot as plt\n",
        "import seaborn as sns\n",
        "import random\n",
        "import heapq\n",
        "from scipy import stats\n",
        "\n",
        "# 3. Random Walk Simulation\n",
        "def random_walk(n):\n",
        "    \"\"\"\n",
        "    Simulate a random walk in 2D space\n",
        "\n",
        "    Parameters:\n",
        "    - n: Number of steps to take\n",
        "\n",
        "    Returns:\n",
        "    - x, y coordinates of final position\n",
        "    - Trajectory plot\n",
        "    \"\"\"\n",
        "    # Initialize starting point\n",
        "    x, y = 0, 0\n",
        "\n",
        "    # Track trajectory\n",
        "    xs, ys = [x], [y]\n",
        "\n",
        "    # Perform random walk\n",
        "    for _ in range(n):\n",
        "        # Random step: can move in any of 4 directions\n",
        "        dx, dy = random.choice([(0,1), (0,-1), (1,0), (-1,0)])\n",
        "        x += dx\n",
        "        y += dy\n",
        "        xs.append(x)\n",
        "        ys.append(y)\n",
        "\n",
        "    # Calculate Euclidean distance from origin\n",
        "    final_distance = np.sqrt(x**2 + y**2)\n",
        "\n",
        "    # Visualize walk\n",
        "    plt.figure(figsize=(8, 6))\n",
        "    plt.plot(xs, ys, marker='o')\n",
        "    plt.title(f'Random Walk ({n} Steps)')\n",
        "    plt.xlabel('X Coordinate')\n",
        "    plt.ylabel('Y Coordinate')\n",
        "    plt.grid(True)\n",
        "    plt.tight_layout()\n",
        "    plt.show()\n",
        "\n",
        "    return x, y, final_distance"
      ],
      "metadata": {
        "id": "CRa2fMCELnjA"
      },
      "execution_count": 3,
      "outputs": []
    },
    {
      "cell_type": "markdown",
      "source": [],
      "metadata": {
        "id": "_NbKxIqz_9FM"
      }
    },
    {
      "cell_type": "code",
      "source": [
        "import numpy as np\n",
        "import matplotlib.pyplot as plt\n",
        "\n",
        "def random_walk(n):\n",
        "    x, y = 0, 0\n",
        "    positions = [(x, y)]\n",
        "\n",
        "    for _ in range(n):\n",
        "        dx, dy = np.random.choice([-1, 1]), np.random.choice([-1, 1])\n",
        "        x += dx\n",
        "        y += dy\n",
        "        positions.append((x, y))\n",
        "\n",
        "    x_coords, y_coords = zip(*positions)\n",
        "\n",
        "    # Plot the random walk\n",
        "    plt.figure(figsize=(8, 8))\n",
        "    plt.plot(x_coords, y_coords, marker=\"o\", markersize=5, linestyle=\"-\", alpha=0.8)\n",
        "    plt.title(f\"2D Random Walk with {n} Steps\", fontsize=16)\n",
        "    plt.xlabel(\"X Coordinate\", fontsize=12)\n",
        "    plt.ylabel(\"Y Coordinate\", fontsize=12)\n",
        "    plt.grid(True)\n",
        "    plt.axhline(0, color='black', linestyle='--', linewidth=0.7)\n",
        "    plt.axvline(0, color='black', linestyle='--', linewidth=0.7)\n",
        "    plt.show()\n",
        "\n",
        "    # Euclidean distance\n",
        "    distance = np.sqrt(x**2 + y**2)\n",
        "    print(f\"Euclidean Distance from Origin after {n} steps: {distance:.2f}\")\n",
        "\n",
        "# Example usage\n",
        "random_walk(10)\n",
        "random_walk(100)\n",
        "random_walk(100)\n"
      ],
      "metadata": {
        "id": "bFa3n5eCM83E"
      },
      "execution_count": null,
      "outputs": []
    },
    {
      "cell_type": "markdown",
      "source": [
        "# **4. Hypothesis Testing for User Ratings**\n",
        "\n",
        "Perform a statistical analysis to determine if the average rating of songs differs significantly between two user groups.\n",
        "Clearly state your null and alternative hypotheses and perform a two-sample t-test using Python.\n",
        "Summarize your findings with a short interpretation of the results."
      ],
      "metadata": {
        "id": "USOvQmtQM5XB"
      }
    },
    {
      "cell_type": "code",
      "source": [
        "# 4. Hypothesis Testing for User Ratings\n",
        "def user_ratings_hypothesis_test(group1_ratings, group2_ratings, alpha=0.05):\n",
        "    \"\"\"\n",
        "    Perform two-sample t-test on user ratings\n",
        "\n",
        "    Parameters:\n",
        "    - group1_ratings: Ratings for first user group\n",
        "    - group2_ratings: Ratings for second user group\n",
        "    - alpha: Significance level\n",
        "\n",
        "    Returns:\n",
        "    - t-statistic, p-value, and interpretation\n",
        "    \"\"\"\n",
        "    # Perform two-sample t-test\n",
        "    t_statistic, p_value = stats.ttest_ind(group1_ratings, group2_ratings)\n",
        "\n",
        "    # Interpret results\n",
        "    if p_value < alpha:\n",
        "        conclusion = \"Reject null hypothesis. There is significant difference in ratings between groups.\"\n",
        "    else:\n",
        "        conclusion = \"Fail to reject null hypothesis. No significant difference in ratings between groups.\"\n",
        "\n",
        "    return t_statistic, p_value, conclusion\n"
      ],
      "metadata": {
        "id": "yEkcVpEeM_0P"
      },
      "execution_count": 4,
      "outputs": []
    },
    {
      "cell_type": "markdown",
      "source": [
        "# **5. Math Puzzle: Probability of Consecutive Songs**\n",
        "\n",
        "Calculate the probability that two favorite songs (Song A and Song B) are played consecutively in a playlist of 10 songs.\n",
        "Write a Python simulation to validate the theoretical probability."
      ],
      "metadata": {
        "id": "tDf4qytYNHjB"
      }
    },
    {
      "cell_type": "code",
      "source": [
        "# 5. Probability of Consecutive Songs\n",
        "def consecutive_songs_probability(playlist_size=10):\n",
        "    \"\"\"\n",
        "    Calculate probability of two favorite songs being played consecutively\n",
        "\n",
        "    Parameters:\n",
        "    - playlist_size: Total number of songs in playlist\n",
        "\n",
        "    Returns:\n",
        "    - Theoretical probability\n",
        "    - Simulated probability\n",
        "    \"\"\"\n",
        "    # Theoretical probability calculation\n",
        "    theoretical_prob = 2 / (playlist_size * (playlist_size - 1))\n",
        "\n",
        "    # Simulation\n",
        "    num_simulations = 10000\n",
        "    consecutive_count = 0\n",
        "\n",
        "    for _ in range(num_simulations):\n",
        "        # Create a random playlist\n",
        "        playlist = list(range(playlist_size))\n",
        "        np.random.shuffle(playlist)\n",
        "\n",
        "        # Check for consecutive favorite songs\n",
        "        for i in range(len(playlist) - 1):\n",
        "            if playlist[i] in [0, 1] and playlist[i+1] in [0, 1]:\n",
        "                consecutive_count += 1\n",
        "                break\n",
        "\n",
        "    simulated_prob = consecutive_count / num_simulations\n",
        "\n",
        "    return theoretical_prob, simulated_prob"
      ],
      "metadata": {
        "id": "PShOdRFiNQyC"
      },
      "execution_count": 13,
      "outputs": []
    },
    {
      "cell_type": "markdown",
      "source": [
        "Probability of Consecutive Songs\n",
        "\n",
        "Theoretical Derivation:\n",
        "\n",
        "\n",
        "Total permutations of the playlist =\n",
        "10\n",
        "!\n",
        "10!\n",
        "Permutations where A and B are together =\n",
        "9\n",
        "!\n",
        "×\n",
        "2\n",
        "9!×2\n",
        "Probability =\n",
        "9\n",
        "!\n",
        "×\n",
        "2\n",
        "10\n",
        "!\n",
        "=\n",
        "1\n",
        "5\n",
        "=\n",
        "0.20\n",
        "10!\n",
        "9!×2\n",
        "​\n",
        " =\n",
        "5\n",
        "1\n",
        "​\n",
        " =0.20.\n",
        "\n",
        "Simulated Results:\n",
        "\n",
        "After 10,000 simulations, the probability of A and B being consecutive was approximately\n",
        "0.198\n",
        "0.198.\n",
        "\n",
        "**Key Insight:**\n",
        "\n",
        "Theoretical and simulated results were nearly identical (\n",
        "0.20\n",
        "0.20 vs.\n",
        "0.198\n",
        "0.198), validating the accuracy of the simulation.\n",
        "\n",
        "**Challenges:**\n",
        "\n",
        "Ensuring randomness in the simulation by shuffling playlists.\n",
        "Achieving convergence in simulated probabilities with a sufficient number of iterations."
      ],
      "metadata": {
        "id": "GPA5EU-SARDt"
      }
    },
    {
      "cell_type": "code",
      "source": [
        "# Example Usage and Demonstration\n",
        "\n",
        "def main():\n",
        "    # Sample data for demonstration\n",
        "    user_data = pd.DataFrame({\n",
        "        'User_ID': [1, 1, 1, 2, 2, 2],\n",
        "        'Song_ID': [101, 102, 103, 201, 202, 203],\n",
        "        'Rating': [5, 4, 3, 5, 4, 3]\n",
        "    })\n",
        "\n",
        "    song_features = pd.DataFrame({\n",
        "        'Song_ID': [101, 102, 103, 201, 202, 203],\n",
        "        'Feature_1': [0.1, 0.2, 0.3, 0.4, 0.5, 0.6],\n",
        "        'Feature_2': [0.7, 0.8, 0.9, 1.0, 1.1, 1.2]\n",
        "    })\n",
        "\n",
        "    # 1. Music Recommendation\n",
        "    recommender = MusicRecommender(user_data, song_features)\n",
        "    recommendations = recommender.recommend_songs(1)\n",
        "    print(\"Recommended Songs:\", recommendations)\n",
        "\n",
        "    # 2. Top K Songs\n",
        "    play_counts = {101: 100, 102: 200, 103: 150, 201: 50, 202: 75, 203: 90}\n",
        "    top_songs = find_top_k_songs(play_counts, 3)\n",
        "    print(\"Top 3 Songs:\", top_songs)\n",
        "\n",
        "    # 3. Random Walk\n",
        "    final_x, final_y, distance = random_walk(100)\n",
        "    print(f\"Final Position: ({final_x}, {final_y}), Distance from Origin: {distance}\")\n",
        "\n",
        "    final_x, final_y, distance = random_walk(50)\n",
        "    print(f\"Final Position: ({final_x}, {final_y}), Distance from Origin: {distance}\")\n",
        "\n",
        "    # 4. Hypothesis Testing\n",
        "    group1_ratings = [4, 5, 3, 4, 5]\n",
        "    group2_ratings = [3, 2, 4, 3, 2]\n",
        "    t_stat, p_val, conclusion = user_ratings_hypothesis_test(group1_ratings, group2_ratings)\n",
        "    print(\"Hypothesis Test Results:\")\n",
        "    print(f\"t-statistic: {t_stat}, p-value: {p_val}\")\n",
        "    print(conclusion)\n",
        "\n",
        "    # 5. Consecutive Songs Probability\n",
        "    theo_prob, sim_prob = consecutive_songs_probability()\n",
        "    print(f\"Theoretical Probability: {theo_prob}\")\n",
        "    print(f\"Simulated Probability: {sim_prob}\")\n",
        "\n",
        "if __name__ == \"__main__\":\n",
        "    main()"
      ],
      "metadata": {
        "id": "AKJahP6mkeSP",
        "outputId": "3a171f15-929f-453e-833a-387815d144d3",
        "colab": {
          "base_uri": "https://localhost:8080/",
          "height": 1000
        }
      },
      "execution_count": 12,
      "outputs": [
        {
          "output_type": "stream",
          "name": "stdout",
          "text": [
            "Recommended Songs: [201.0, 202.0, 203.0]\n",
            "Top 3 Songs: [102, 103, 101]\n"
          ]
        },
        {
          "output_type": "display_data",
          "data": {
            "text/plain": [
              "<Figure size 800x600 with 1 Axes>"
            ],
            "image/png": "[encoded data removed]"
          },
          "metadata": {}
        },
        {
          "output_type": "stream",
          "name": "stdout",
          "text": [
            "Final Position: (-1, 9), Distance from Origin: 9.055385138137417\n"
          ]
        },
        {
          "output_type": "display_data",
          "data": {
            "text/plain": [
              "<Figure size 800x600 with 1 Axes>"
            ],
            "image/png": "[encoded data removed]"
          },
          "metadata": {}
        },
        {
          "output_type": "stream",
          "name": "stdout",
          "text": [
            "Final Position: (-6, 0), Distance from Origin: 6.0\n",
            "Hypothesis Test Results:\n",
            "t-statistic: 2.6457513110645916, p-value: 0.02944930522911056\n",
            "Reject null hypothesis. There is significant difference in ratings between groups.\n",
            "Theoretical Probability: 0.022222222222222223\n",
            "Simulated Probability: 0.1988\n"
          ]
        }
      ]
    }
  ]
}