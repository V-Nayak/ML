{
  "nbformat": 4,
  "nbformat_minor": 0,
  "metadata": {
    "colab": {
      "provenance": [],
      "authorship_tag": "ABX9TyNPlixl8W6MtTxXJEjOOghE",
      "include_colab_link": true
    },
    "kernelspec": {
      "name": "python3",
      "display_name": "Python 3"
    },
    "language_info": {
      "name": "python"
    }
  },
  "cells": [
    {
      "cell_type": "markdown",
      "metadata": {
        "id": "view-in-github",
        "colab_type": "text"
      },
      "source": [
        "<a href=\"https://colab.research.google.com/github/V-Nayak/ML/blob/main/music_recom.ipynb\" target=\"_parent\"><img src=\"https://colab.research.google.com/assets/colab-badge.svg\" alt=\"Open In Colab\"/></a>"
      ]
    },
    {
      "cell_type": "markdown",
      "source": [
        "# **Problem Statement:**\n",
        "\n",
        "You are tasked with building a Music Recommendation System leveraging machine learning techniques. This system should provide personalized recommendations to users based on their listening history and the similarity of songs. In addition to implementing the recommendation engine, you will also need to demonstrate strong coding skills, problem-solving abilities, and a solid understanding of statistics, mathematics, and probability."
      ],
      "metadata": {
        "id": "P-hEr2V1e2m7"
      }
    },
    {
      "cell_type": "markdown",
      "source": [
        "# **1. Build a Music Recommendation System**\n",
        "\n",
        "Design an algorithm to recommend songs to a user based on:\n",
        "Their highest-rated songs.\n",
        "Similarity of songs (calculated using cosine similarity based on song features).\n",
        "Inputs:\n",
        "User listening history in the format:\n",
        "scss\n",
        "Copy code\n",
        "User_ID | Song_ID | Rating (1-5)\n",
        "\n",
        "\n",
        "Song feature dataset in the format:\n",
        "Copy code\n",
        "Song_ID | Feature_1 | Feature_2 | ... | Feature_N\n",
        "\n",
        "\n",
        "## **Deliverables**:\n",
        "A function recommend_songs(user_id, user_data, song_features) that outputs the top 5 recommendations for a given user."
      ],
      "metadata": {
        "id": "-lF7wVWFfKjv"
      }
    },
    {
      "cell_type": "code",
      "execution_count": null,
      "metadata": {
        "id": "vUjfCFygcfhu"
      },
      "outputs": [],
      "source": [
        "import numpy as np\n",
        "import pandas as pd\n",
        "import matplotlib.pyplot as plt\n",
        "import seaborn as sns\n",
        "import random\n",
        "import heapq\n",
        "from scypy import stats\n",
        "\n",
        "# 1. Music Recommendation System\n",
        "class MusicRecommender:\n",
        "    def __init__(self, user_data, song_features):\n",
        "\n",
        "        #Initialize the recommender with user data and song features\n",
        "\n",
        "        #Parameters:\n",
        "        # user_data: DataFrame with columns [User_ID, Song_ID, Rating]\n",
        "        # song_features: DataFrame with columns [Song_ID, Feature_1, Feature_2, ...]\n",
        "\n",
        "        self.user_data = user_data\n",
        "        self.song_features = song_features\n",
        "\n",
        "    def calculate_cosine_similarity(self, song1, song2):\n",
        "\n",
        "        #Calculate cosine similarity between two songs\n",
        "\n",
        "        #Parameters:\n",
        "        #- song1: Feature vector of first song\n",
        "        #- song2: Feature vector of second song\n",
        "\n",
        "        #Returns:\n",
        "        #- Cosine similarity score\n",
        "\n",
        "        # Normalize feature vectors\n",
        "        song1_norm = song1 / np.linalg.norm(song1)\n",
        "        song2_norm = song2 / np.linalg.norm(song2)\n",
        "\n",
        "        # Calculate cosine similarity\n",
        "        return np.dot(song1_norm, song2_norm)\n",
        "\n",
        "    def recommend_songs(self, user_id, top_n=5):\n",
        "\n",
        "        #Recommend top N songs for a given user\n",
        "\n",
        "        #Parameters:\n",
        "        #- user_id: ID of the user to recommend songs for\n",
        "        #- top_n: Number of recommendations to return\n",
        "\n",
        "        #Returns:\n",
        "        #- List of recommended song IDs\n",
        "\n",
        "        # Get user's highest-rated songs\n",
        "        user_songs = self.user_data[self.user_data['User_ID'] == user_id]\n",
        "        top_rated_songs = user_songs.nlargest(3, 'Rating')['Song_ID'].tolist()\n",
        "\n",
        "        # Calculate song similarities\n",
        "        recommendations = {}\n",
        "        for song_id in top_rated_songs:\n",
        "            # Get features of the top-rated song\n",
        "            song_features = self.song_features[self.song_features['Song_ID'] == song_id].iloc[0, 1:].values\n",
        "\n",
        "            # Compare with all other songs\n",
        "            for _, other_song in self.song_features.iterrows():\n",
        "                if other_song['Song_ID'] not in user_songs['Song_ID'].values:\n",
        "                    other_features = other_song.values[1:]\n",
        "                    similarity = self.calculate_cosine_similarity(song_features, other_features)\n",
        "                    recommendations[other_song['Song_ID']] = max(\n",
        "                        recommendations.get(other_song['Song_ID'], 0),\n",
        "                        similarity\n",
        "                    )\n",
        "\n",
        "        # Return top N recommendations\n",
        "        return sorted(recommendations, key=recommendations.get, reverse=True)[:top_n]"
      ]
    },
    {
      "cell_type": "markdown",
      "source": [
        "# **2. Optimize Data Structure for Play Count Analysis**\n",
        "\n",
        "Given a list of songs with their play counts, write a function to efficiently find the top k most-played songs.\n",
        "Optimize for large datasets using appropriate data structures like heaps"
      ],
      "metadata": {
        "id": "wUB8g0GvfjF8"
      }
    },
    {
      "cell_type": "code",
      "source": [
        "# 2. Top K Most-Played Songs using Heap\n",
        "\n",
        "def find_top_k_songs(play_counts, k):\n",
        "\n",
        "    #Efficiently find top k most-played songs using a heap\n",
        "\n",
        "    #Parameters:\n",
        "    #- play_counts: Dictionary of {song_id: play_count}\n",
        "    #- k: Number of top songs to return\n",
        "\n",
        "    #Returns:\n",
        "    #- List of k most-played songs\n",
        "\n",
        "    # Use a min-heap of size k\n",
        "    heap = []\n",
        "    for song, count in play_counts.items():\n",
        "        if len(heap) < k:\n",
        "            heapq.heappush(heap, (count, song))\n",
        "        else:\n",
        "            heapq.heappushpop(heap, (count, song))\n",
        "\n",
        "    # Return songs sorted in descending order of play count\n",
        "    return [song for _, song in sorted(heap, reverse=True)]"
      ],
      "metadata": {
        "id": "_acEjgKLfopW"
      },
      "execution_count": null,
      "outputs": []
    },
    {
      "cell_type": "markdown",
      "source": [
        "# **3. Random Walk Simulation**\n",
        "\n",
        "Simulate a random walk in 2D space to visualize the trajectory of a user navigating through a playlist in a probabilistic manner.\n",
        "Deliverables:\n",
        "A function random_walk(n) that simulates n steps and visualizes the walk using Matplotlib.\n",
        "Display the Euclidean distance from the origin after n steps."
      ],
      "metadata": {
        "id": "FFdGVrW8f7-O"
      }
    }
  ]
}